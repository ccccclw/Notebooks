{
 "cells": [
  {
   "cell_type": "markdown",
   "metadata": {},
   "source": [
    "## **Isobaric-isothermal ensemble derivation**"
   ]
  },
  {
   "cell_type": "markdown",
   "metadata": {},
   "source": [
    "#### 1. Find the probability of obeserving a microstate\n",
    "Legendre transformation:<br/>\n",
    "\n",
    "$E(N,p,S) = E(N,V(p),S) - \\frac{\\partial E}{\\partial V}V(p)= E(N,V(p),S) + pV(p)$ (due to $p = \\frac{\\partial E}{\\partial V}$) $\\space$                     (1)<br/>\n",
    "\n",
    "In thermodynamics, we use $H$ instead of $E$ for isobaric-isothermal ensemble, so <br/>\n",
    "\n",
    "$H(N,p,S) = E(N,V(P),S) + pV(p) \\space$  (2) <br/>\n",
    "\n",
    "Now, we have:<br/>\n",
    "\n",
    "$\\sum_{j}n_j = N  \\space$  (3)<br/>\n",
    "\n",
    "$\\sum_{j}n_jH_j = H_t \\space$  (4) <br/>\n",
    "\n",
    "$\\Omega_t(n) = \\frac{N!}{\\Pi_jn_j!} \\space$  (5) <br/>\n",
    "\n",
    "Similarly with solving canonical ensemble, by applying Lagrange multiplier to $ln\\Omega_t(n)$<br/>\n",
    "\n",
    "we get $\\frac{\\partial}{\\partial n_j}[ln\\Omega_t(n) - \\alpha\\sum_i n_i - \\beta\\sum_i n_i H_i] = 0 \\space$ (6)<br/>\n",
    "\n",
    "we find $ln(\\sum_in_i) - ln n_j^* - \\alpha - \\beta E_j = 0 \\space$ or $n_j^* = Ne^{-\\alpha}e^{-\\beta}\\space$ (7)<br/>\n",
    "\n",
    "By subsitituting (7) to (3) and (4), we get<br/>\n",
    "\n",
    "$e^\\alpha = \\sum_j e^{\\beta H_j} \\space$ (8), so<br/>\n",
    "\n",
    "$P_j = \\frac{n_j^*}{N} = \\frac{e^{-\\beta H_j}}{\\sum_i e^{-\\beta H_i}} = \\frac{e^{-\\beta (E_j + pV_j)}}{\\sum_i e^{-\\beta (E_i + pV_i)}} \\space$ (9)\n",
    "#### 2. Find the corresponding partition function \n",
    "Following the derivation in the last question, Isobaric-isothermal ensemble partition function<br/>\n",
    "\n",
    "$\\Xi = \\sum_i e^{-\\beta (E_i + pV_i)} \\space$ (10)\n",
    "#### 3. State function\n",
    "Following the derivation in question one, we get the state energy function for Isobaric-isothermal ensemble is<br/> \n",
    "\n",
    "$H(N,p,S) = E(N,V(p),S) + pV(p) \\space$  (11) <br/>\n",
    "\n",
    "$dH = dE + pdV + Vdp = TdS - pdV + \\mu dN + pdV + Vdp = TdS +  Vdp + \\mu dN \\space$ (12)<br/>\n",
    "#### 4. Characteristic funciton\n",
    "$G(N,p,S) = A(N,V(p),S) - \\frac{\\partial A}{\\partial V}V(p)= A(N,V(p),S) + pV(p) \\space$ (13)<br/>\n",
    "\n",
    "$dG = dA + pdV + Vdp = -TdS - pdV + \\mu dN + pdV + Vdp = -TdS +  Vdp + \\mu dN \\space$ (14)\n",
    "#### 5. Mechanical and nonmechanical variables\n",
    "Entropy $S(N,p,T) = -k_b\\sum_jP_jlnP_j = \\frac{H}{T} - \\frac{G}{T} \\space$ (15)\n",
    "\n",
    "Given (9), (14), (15) we get<br/>\n",
    "\n",
    "$S = -(\\frac{\\partial G}{\\partial T})_{p,N} = k_bT(\\frac{\\partial ln \\Xi}{\\partial T})_{p,N} + k_bln \\Xi \\space$ (16)<br/>\n",
    "\n",
    "$V = (\\frac{\\partial G}{\\partial p})_{N,T} = -k_bT (\\frac{\\partial ln \\Xi}{\\partial p})_{N,T} \\space$ (17)<br/>\n",
    "\n",
    "$\\mu_i = (\\frac{\\partial G}{\\partial N_i})_{p,T,N_{\\alpha \\ne i}} = -k_bT(\\frac{\\partial ln \\Xi}{\\partial T})_{p,T,N_{\\alpha \\ne i}} \\space$ (18)<br/>"
   ]
  },
  {
   "cell_type": "markdown",
   "metadata": {},
   "source": [
    "#### Volume fluctuation in NPT-ensemble\n",
    "\n",
    "$\\langle V\\rangle = -k_BT\\frac{1}{\\Xi}\\frac{\\partial\\Xi}{\\partial p}$\n",
    "\n",
    "$\\langle V^2\\rangle = (k_BT)^2\\frac{1}{\\Xi}\\frac{\\partial^2\\Xi}{\\partial p^2}$\n",
    "\n",
    "$-\\frac{\\partial V}{\\partial p} = k_BT\\frac{\\partial}{\\partial p}(\\frac{1}{\\Xi}\\frac{\\partial\\Xi}{\\partial p})$<br/>\n",
    "\n",
    "$=\\frac{1}{k_BT}[(k_BT)^2\\frac{1}{\\Xi}\\frac{\\partial^2\\Xi}{\\partial p^2} - (k_BT\\frac{1}{\\Xi}\\frac{\\partial\\Xi}{\\partial p})^2]$\n",
    "\n",
    "$=\\frac{1}{k_BT}(\\langle V^2\\rangle - \\langle V\\rangle^2)$\n",
    "\n",
    "$=\\frac{1}{k_BT}(\\Delta V)^2$\n",
    "\n",
    "Compressibility: $\\beta_c = -\\frac{1}{V}(\\frac{\\partial V}{\\partial p})_{T,N} = \\frac{(\\Delta V)^2}{k_BTV}$\n",
    "\n",
    "$\\Delta V = \\sqrt{k_BT\\beta_cV}$\n",
    "\n",
    "$\\frac{\\Delta V}{V} \\propto \\frac{1}{\\sqrt{V}} \\rightarrow 0 \\space when\\space V  \\rightarrow \\infty$"
   ]
  },
  {
   "cell_type": "code",
   "execution_count": null,
   "metadata": {},
   "outputs": [],
   "source": []
  }
 ],
 "metadata": {
  "kernelspec": {
   "display_name": "Python 3",
   "language": "python",
   "name": "python3"
  },
  "language_info": {
   "codemirror_mode": {
    "name": "ipython",
    "version": 3
   },
   "file_extension": ".py",
   "mimetype": "text/x-python",
   "name": "python",
   "nbconvert_exporter": "python",
   "pygments_lexer": "ipython3",
   "version": "3.7.4"
  }
 },
 "nbformat": 4,
 "nbformat_minor": 2
}
