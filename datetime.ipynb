{
 "cells": [
  {
   "cell_type": "code",
   "execution_count": 21,
   "metadata": {},
   "outputs": [],
   "source": [
    "import pandas as pd\n",
    "import numpy as np\n",
    "from datetime import datetime\n",
    "now = datetime.now()"
   ]
  },
  {
   "cell_type": "code",
   "execution_count": 2,
   "metadata": {},
   "outputs": [
    {
     "data": {
      "text/plain": [
       "datetime.datetime(2019, 7, 30, 14, 45, 56, 741043)"
      ]
     },
     "execution_count": 2,
     "metadata": {},
     "output_type": "execute_result"
    }
   ],
   "source": [
    "now"
   ]
  },
  {
   "cell_type": "code",
   "execution_count": 9,
   "metadata": {},
   "outputs": [
    {
     "data": {
      "text/plain": [
       "'2019-07-30-Tuesday-Jul-30'"
      ]
     },
     "execution_count": 9,
     "metadata": {},
     "output_type": "execute_result"
    }
   ],
   "source": [
    "now.strftime('%Y-%m-%d-%A-%b-%W')"
   ]
  },
  {
   "cell_type": "code",
   "execution_count": 31,
   "metadata": {
    "scrolled": true
   },
   "outputs": [
    {
     "data": {
      "text/plain": [
       "DatetimeIndex(['2011-01-01', '2011-01-02', '2011-01-03', '2011-01-04',\n",
       "               '2011-01-05', '2011-01-06', '2011-01-07', '2011-01-08',\n",
       "               '2011-01-09', '2011-01-10'],\n",
       "              dtype='datetime64[ns]', freq='D')"
      ]
     },
     "execution_count": 31,
     "metadata": {},
     "output_type": "execute_result"
    }
   ],
   "source": [
    "dates = pd.date_range('20110101', '20110110')\n",
    "dates"
   ]
  },
  {
   "cell_type": "code",
   "execution_count": 35,
   "metadata": {
    "scrolled": true
   },
   "outputs": [],
   "source": [
    "ts = pd.DataFrame(np.random.rand(10, 4), index = dates, columns=['i', 'love', 'you', '!'])"
   ]
  },
  {
   "cell_type": "code",
   "execution_count": 36,
   "metadata": {},
   "outputs": [
    {
     "data": {
      "text/html": [
       "<div>\n",
       "<style scoped>\n",
       "    .dataframe tbody tr th:only-of-type {\n",
       "        vertical-align: middle;\n",
       "    }\n",
       "\n",
       "    .dataframe tbody tr th {\n",
       "        vertical-align: top;\n",
       "    }\n",
       "\n",
       "    .dataframe thead th {\n",
       "        text-align: right;\n",
       "    }\n",
       "</style>\n",
       "<table border=\"1\" class=\"dataframe\">\n",
       "  <thead>\n",
       "    <tr style=\"text-align: right;\">\n",
       "      <th></th>\n",
       "      <th>i</th>\n",
       "      <th>love</th>\n",
       "      <th>you</th>\n",
       "      <th>!</th>\n",
       "    </tr>\n",
       "  </thead>\n",
       "  <tbody>\n",
       "    <tr>\n",
       "      <th>2011-01-01</th>\n",
       "      <td>0.225865</td>\n",
       "      <td>0.152378</td>\n",
       "      <td>0.180950</td>\n",
       "      <td>0.180397</td>\n",
       "    </tr>\n",
       "    <tr>\n",
       "      <th>2011-01-02</th>\n",
       "      <td>0.852267</td>\n",
       "      <td>0.374068</td>\n",
       "      <td>0.549391</td>\n",
       "      <td>0.680385</td>\n",
       "    </tr>\n",
       "    <tr>\n",
       "      <th>2011-01-03</th>\n",
       "      <td>0.098850</td>\n",
       "      <td>0.097707</td>\n",
       "      <td>0.235698</td>\n",
       "      <td>0.290035</td>\n",
       "    </tr>\n",
       "    <tr>\n",
       "      <th>2011-01-04</th>\n",
       "      <td>0.572607</td>\n",
       "      <td>0.658079</td>\n",
       "      <td>0.312968</td>\n",
       "      <td>0.054237</td>\n",
       "    </tr>\n",
       "    <tr>\n",
       "      <th>2011-01-05</th>\n",
       "      <td>0.630878</td>\n",
       "      <td>0.358920</td>\n",
       "      <td>0.562867</td>\n",
       "      <td>0.611719</td>\n",
       "    </tr>\n",
       "    <tr>\n",
       "      <th>2011-01-06</th>\n",
       "      <td>0.971696</td>\n",
       "      <td>0.728263</td>\n",
       "      <td>0.173890</td>\n",
       "      <td>0.230204</td>\n",
       "    </tr>\n",
       "    <tr>\n",
       "      <th>2011-01-07</th>\n",
       "      <td>0.997457</td>\n",
       "      <td>0.475633</td>\n",
       "      <td>0.501175</td>\n",
       "      <td>0.464241</td>\n",
       "    </tr>\n",
       "    <tr>\n",
       "      <th>2011-01-08</th>\n",
       "      <td>0.984595</td>\n",
       "      <td>0.290363</td>\n",
       "      <td>0.341550</td>\n",
       "      <td>0.640820</td>\n",
       "    </tr>\n",
       "    <tr>\n",
       "      <th>2011-01-09</th>\n",
       "      <td>0.386088</td>\n",
       "      <td>0.733238</td>\n",
       "      <td>0.715884</td>\n",
       "      <td>0.963870</td>\n",
       "    </tr>\n",
       "    <tr>\n",
       "      <th>2011-01-10</th>\n",
       "      <td>0.436151</td>\n",
       "      <td>0.785096</td>\n",
       "      <td>0.582536</td>\n",
       "      <td>0.847083</td>\n",
       "    </tr>\n",
       "  </tbody>\n",
       "</table>\n",
       "</div>"
      ],
      "text/plain": [
       "                   i      love       you         !\n",
       "2011-01-01  0.225865  0.152378  0.180950  0.180397\n",
       "2011-01-02  0.852267  0.374068  0.549391  0.680385\n",
       "2011-01-03  0.098850  0.097707  0.235698  0.290035\n",
       "2011-01-04  0.572607  0.658079  0.312968  0.054237\n",
       "2011-01-05  0.630878  0.358920  0.562867  0.611719\n",
       "2011-01-06  0.971696  0.728263  0.173890  0.230204\n",
       "2011-01-07  0.997457  0.475633  0.501175  0.464241\n",
       "2011-01-08  0.984595  0.290363  0.341550  0.640820\n",
       "2011-01-09  0.386088  0.733238  0.715884  0.963870\n",
       "2011-01-10  0.436151  0.785096  0.582536  0.847083"
      ]
     },
     "execution_count": 36,
     "metadata": {},
     "output_type": "execute_result"
    }
   ],
   "source": [
    "ts"
   ]
  },
  {
   "cell_type": "code",
   "execution_count": 37,
   "metadata": {},
   "outputs": [
    {
     "data": {
      "text/html": [
       "<div>\n",
       "<style scoped>\n",
       "    .dataframe tbody tr th:only-of-type {\n",
       "        vertical-align: middle;\n",
       "    }\n",
       "\n",
       "    .dataframe tbody tr th {\n",
       "        vertical-align: top;\n",
       "    }\n",
       "\n",
       "    .dataframe thead th {\n",
       "        text-align: right;\n",
       "    }\n",
       "</style>\n",
       "<table border=\"1\" class=\"dataframe\">\n",
       "  <thead>\n",
       "    <tr style=\"text-align: right;\">\n",
       "      <th></th>\n",
       "      <th>i</th>\n",
       "      <th>love</th>\n",
       "      <th>you</th>\n",
       "      <th>!</th>\n",
       "    </tr>\n",
       "  </thead>\n",
       "  <tbody>\n",
       "    <tr>\n",
       "      <th>2011-01-01</th>\n",
       "      <td>NaN</td>\n",
       "      <td>NaN</td>\n",
       "      <td>NaN</td>\n",
       "      <td>NaN</td>\n",
       "    </tr>\n",
       "    <tr>\n",
       "      <th>2011-01-02</th>\n",
       "      <td>2.773343</td>\n",
       "      <td>1.454861</td>\n",
       "      <td>2.036153</td>\n",
       "      <td>2.771599</td>\n",
       "    </tr>\n",
       "    <tr>\n",
       "      <th>2011-01-03</th>\n",
       "      <td>-0.884016</td>\n",
       "      <td>-0.738798</td>\n",
       "      <td>-0.570984</td>\n",
       "      <td>-0.573719</td>\n",
       "    </tr>\n",
       "    <tr>\n",
       "      <th>2011-01-04</th>\n",
       "      <td>4.792707</td>\n",
       "      <td>5.735212</td>\n",
       "      <td>0.327837</td>\n",
       "      <td>-0.812999</td>\n",
       "    </tr>\n",
       "    <tr>\n",
       "      <th>2011-01-05</th>\n",
       "      <td>0.101764</td>\n",
       "      <td>-0.454594</td>\n",
       "      <td>0.798481</td>\n",
       "      <td>10.278659</td>\n",
       "    </tr>\n",
       "    <tr>\n",
       "      <th>2011-01-06</th>\n",
       "      <td>0.540228</td>\n",
       "      <td>1.029038</td>\n",
       "      <td>-0.691064</td>\n",
       "      <td>-0.623677</td>\n",
       "    </tr>\n",
       "    <tr>\n",
       "      <th>2011-01-07</th>\n",
       "      <td>0.026512</td>\n",
       "      <td>-0.346895</td>\n",
       "      <td>1.882144</td>\n",
       "      <td>1.016651</td>\n",
       "    </tr>\n",
       "    <tr>\n",
       "      <th>2011-01-08</th>\n",
       "      <td>-0.012895</td>\n",
       "      <td>-0.389522</td>\n",
       "      <td>-0.318502</td>\n",
       "      <td>0.380361</td>\n",
       "    </tr>\n",
       "    <tr>\n",
       "      <th>2011-01-09</th>\n",
       "      <td>-0.607872</td>\n",
       "      <td>1.525242</td>\n",
       "      <td>1.095986</td>\n",
       "      <td>0.504120</td>\n",
       "    </tr>\n",
       "    <tr>\n",
       "      <th>2011-01-10</th>\n",
       "      <td>0.129667</td>\n",
       "      <td>0.070725</td>\n",
       "      <td>-0.186270</td>\n",
       "      <td>-0.121165</td>\n",
       "    </tr>\n",
       "  </tbody>\n",
       "</table>\n",
       "</div>"
      ],
      "text/plain": [
       "                   i      love       you          !\n",
       "2011-01-01       NaN       NaN       NaN        NaN\n",
       "2011-01-02  2.773343  1.454861  2.036153   2.771599\n",
       "2011-01-03 -0.884016 -0.738798 -0.570984  -0.573719\n",
       "2011-01-04  4.792707  5.735212  0.327837  -0.812999\n",
       "2011-01-05  0.101764 -0.454594  0.798481  10.278659\n",
       "2011-01-06  0.540228  1.029038 -0.691064  -0.623677\n",
       "2011-01-07  0.026512 -0.346895  1.882144   1.016651\n",
       "2011-01-08 -0.012895 -0.389522 -0.318502   0.380361\n",
       "2011-01-09 -0.607872  1.525242  1.095986   0.504120\n",
       "2011-01-10  0.129667  0.070725 -0.186270  -0.121165"
      ]
     },
     "execution_count": 37,
     "metadata": {},
     "output_type": "execute_result"
    }
   ],
   "source": [
    "ts/ts.shift(1)-1"
   ]
  },
  {
   "cell_type": "code",
   "execution_count": 47,
   "metadata": {},
   "outputs": [],
   "source": [
    "rng = pd.date_range('2001-01-01', periods=10, freq='D')\n",
    "ts = pd.Series(np.random.randn(len(rng)), index=rng)\n",
    "ts1 = ts[:7].tz_localize('Europe/London')\n",
    "ts2 = ts1[2:].tz_convert('Asia/Shanghai')"
   ]
  },
  {
   "cell_type": "code",
   "execution_count": 48,
   "metadata": {},
   "outputs": [
    {
     "data": {
      "text/plain": [
       "2001-01-01 00:00:00+00:00    0.516125\n",
       "2001-01-02 00:00:00+00:00    0.313356\n",
       "2001-01-03 00:00:00+00:00   -0.563418\n",
       "2001-01-04 00:00:00+00:00    1.398260\n",
       "2001-01-05 00:00:00+00:00   -0.608574\n",
       "2001-01-06 00:00:00+00:00   -2.286566\n",
       "2001-01-07 00:00:00+00:00    0.076794\n",
       "Freq: D, dtype: float64"
      ]
     },
     "execution_count": 48,
     "metadata": {},
     "output_type": "execute_result"
    }
   ],
   "source": [
    "ts1"
   ]
  },
  {
   "cell_type": "code",
   "execution_count": 49,
   "metadata": {},
   "outputs": [
    {
     "data": {
      "text/plain": [
       "2001-01-03 08:00:00+08:00   -0.563418\n",
       "2001-01-04 08:00:00+08:00    1.398260\n",
       "2001-01-05 08:00:00+08:00   -0.608574\n",
       "2001-01-06 08:00:00+08:00   -2.286566\n",
       "2001-01-07 08:00:00+08:00    0.076794\n",
       "Freq: D, dtype: float64"
      ]
     },
     "execution_count": 49,
     "metadata": {},
     "output_type": "execute_result"
    }
   ],
   "source": [
    "ts2"
   ]
  },
  {
   "cell_type": "code",
   "execution_count": 51,
   "metadata": {},
   "outputs": [
    {
     "data": {
      "text/plain": [
       "2001-01-01 00:00:00    0.516125\n",
       "2001-01-01 10:00:00    0.000000\n",
       "2001-01-01 20:00:00    0.313356\n",
       "2001-01-02 06:00:00    0.000000\n",
       "2001-01-02 16:00:00   -0.563418\n",
       "2001-01-03 02:00:00    0.000000\n",
       "2001-01-03 12:00:00    0.000000\n",
       "2001-01-03 22:00:00    1.398260\n",
       "2001-01-04 08:00:00    0.000000\n",
       "2001-01-04 18:00:00   -0.608574\n",
       "2001-01-05 04:00:00    0.000000\n",
       "2001-01-05 14:00:00    0.000000\n",
       "2001-01-06 00:00:00   -2.286566\n",
       "2001-01-06 10:00:00    0.000000\n",
       "2001-01-06 20:00:00    0.076794\n",
       "2001-01-07 06:00:00    0.000000\n",
       "2001-01-07 16:00:00   -0.263007\n",
       "2001-01-08 02:00:00    0.000000\n",
       "2001-01-08 12:00:00    0.000000\n",
       "2001-01-08 22:00:00    0.506819\n",
       "2001-01-09 08:00:00    0.000000\n",
       "2001-01-09 18:00:00    0.022194\n",
       "Freq: 10H, dtype: float64"
      ]
     },
     "execution_count": 51,
     "metadata": {},
     "output_type": "execute_result"
    }
   ],
   "source": [
    "ts.resample('10h', closed='left').sum()"
   ]
  },
  {
   "cell_type": "code",
   "execution_count": null,
   "metadata": {},
   "outputs": [],
   "source": []
  }
 ],
 "metadata": {
  "kernelspec": {
   "display_name": "Python 3",
   "language": "python",
   "name": "python3"
  },
  "language_info": {
   "codemirror_mode": {
    "name": "ipython",
    "version": 3
   },
   "file_extension": ".py",
   "mimetype": "text/x-python",
   "name": "python",
   "nbconvert_exporter": "python",
   "pygments_lexer": "ipython3",
   "version": "3.7.3"
  }
 },
 "nbformat": 4,
 "nbformat_minor": 2
}
