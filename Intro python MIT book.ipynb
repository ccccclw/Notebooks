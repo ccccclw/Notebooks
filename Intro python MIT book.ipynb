{
 "cells": [
  {
   "cell_type": "code",
   "execution_count": 1,
   "metadata": {},
   "outputs": [
    {
     "name": "stdout",
     "output_type": "stream",
     "text": [
      "-4.9990234375\n"
     ]
    }
   ],
   "source": [
    "result = -25\n",
    "low = 1\n",
    "high = abs(result)\n",
    "ans = (low+high)/2\n",
    "episloon = 0.01\n",
    "while abs(ans**2-abs(result)) > episloon:\n",
    "    if ans**2 > abs(result):\n",
    "        high = ans\n",
    "    else:\n",
    "        low = ans\n",
    "    ans = (low+high)/2\n",
    "print(-ans)"
   ]
  },
  {
   "cell_type": "markdown",
   "metadata": {},
   "source": [
    "0.1 approximation problem"
   ]
  },
  {
   "cell_type": "code",
   "execution_count": 2,
   "metadata": {},
   "outputs": [
    {
     "name": "stdout",
     "output_type": "stream",
     "text": [
      "1: 12.5\n",
      "2: 7.21\n",
      "3: 5.2693550624133145\n",
      "4: 4.911996075481052\n",
      "5: 4.898996732283414\n"
     ]
    }
   ],
   "source": [
    "epsilon = 0.01\n",
    "k = 24.0\n",
    "guess = k\n",
    "calnum = 0\n",
    "while abs(guess**2-k) > epsilon:\n",
    "    calnum += 1\n",
    "    guess = guess - ((guess**2)-k)/(2*guess)\n",
    "    print(str(calnum)+': '+  str(guess))"
   ]
  },
  {
   "cell_type": "code",
   "execution_count": 3,
   "metadata": {},
   "outputs": [],
   "source": [
    "def isparlin(x):\n",
    "    def ischar(x):\n",
    "        letter=''\n",
    "        for i in x:\n",
    "            if i in 'abcdefghigklmnopqrsduvwxyz':\n",
    "                letter = letter + i\n",
    "        return letter\n",
    "    def ispal(x):\n",
    "        if len(x)<1:\n",
    "            return True\n",
    "        else:\n",
    "            return x[0]==x[-1] and ispal(x[1:-1])\n",
    "    return ispal(ischar(x))\n",
    "def testisparlin():\n",
    "    print('abcba')\n",
    "    print(isparlin('abcba'))"
   ]
  },
  {
   "cell_type": "code",
   "execution_count": 4,
   "metadata": {},
   "outputs": [
    {
     "name": "stdout",
     "output_type": "stream",
     "text": [
      "True\n"
     ]
    }
   ],
   "source": [
    "print(isparlin('abcba'))"
   ]
  },
  {
   "cell_type": "code",
   "execution_count": 5,
   "metadata": {},
   "outputs": [],
   "source": [
    "def ispal(x):\n",
    "    l = x[:]\n",
    "    l.reverse()\n",
    "    print(l, x)\n",
    "    if l == x:\n",
    "        return True\n",
    "    else:\n",
    "        return False\n",
    "def silly(n):\n",
    "    result = []\n",
    "    for i in range(n):\n",
    "        a = input('enter an element:')\n",
    "        result.append(a)\n",
    "    print(result)\n",
    "    if ispal(result):\n",
    "        print('yes')\n",
    "    else:\n",
    "        print('no')"
   ]
  },
  {
   "cell_type": "code",
   "execution_count": null,
   "metadata": {},
   "outputs": [],
   "source": []
  },
  {
   "cell_type": "code",
   "execution_count": null,
   "metadata": {},
   "outputs": [],
   "source": []
  },
  {
   "cell_type": "code",
   "execution_count": null,
   "metadata": {},
   "outputs": [],
   "source": []
  },
  {
   "cell_type": "code",
   "execution_count": 6,
   "metadata": {},
   "outputs": [],
   "source": [
    "import random\n",
    "def flipnum(n):\n",
    "    heads = 0\n",
    "    for i in range(n):\n",
    "        if random.random()<0.5:\n",
    "            heads += 1\n",
    "    return heads/n\n",
    "def flipsim(flippertrial, numtrial):\n",
    "    result = []\n",
    "    for i in range(numtrial):\n",
    "        result.append(flipnum(flippertrial))\n",
    "    mean = sum(result)/numtrial\n",
    "    return mean"
   ]
  },
  {
   "cell_type": "code",
   "execution_count": 7,
   "metadata": {},
   "outputs": [
    {
     "data": {
      "text/plain": [
       "0.49759999999999993"
      ]
     },
     "execution_count": 7,
     "metadata": {},
     "output_type": "execute_result"
    }
   ],
   "source": [
    "flipsim(100, 100)"
   ]
  },
  {
   "cell_type": "code",
   "execution_count": 8,
   "metadata": {},
   "outputs": [],
   "source": [
    "import matplotlib.pyplot as plt\n",
    "def flipPlot(minexp, maxexp):\n",
    "    ratios = []\n",
    "    x = []\n",
    "    diff = []\n",
    "    for i in range(minexp, maxexp+1):\n",
    "        x.append(2**i)\n",
    "    for i in x:\n",
    "        heads = 0\n",
    "        for flipnum in range(i):\n",
    "            if random.random() < 0.5:\n",
    "                heads += 1\n",
    "        tails = flipnum - heads\n",
    "        ratios.append(heads/tails)\n",
    "        diff.append(abs(heads-tails))\n",
    "    plt.subplot(1, 2, 1)\n",
    "  \n",
    "    plt.semilogx(x, ratios, 'r--')\n",
    "    plt.subplot(1, 2, 2)\n",
    "    plt.semilogx(x, diff, 'b--')\n",
    "    \n",
    "            "
   ]
  },
  {
   "cell_type": "code",
   "execution_count": 9,
   "metadata": {},
   "outputs": [
    {
     "data": {
      "image/png": "[encoded data removed]",
      "text/plain": [
       "<Figure size 432x288 with 2 Axes>"
      ]
     },
     "metadata": {
      "needs_background": "light"
     },
     "output_type": "display_data"
    }
   ],
   "source": [
    "random.seed(0)\n",
    "flipPlot(4, 20)"
   ]
  },
  {
   "cell_type": "code",
   "execution_count": 10,
   "metadata": {},
   "outputs": [
    {
     "data": {
      "text/plain": [
       "(array([ 21.,  68., 103., 125., 182., 170., 156.,  96.,  57.,  24.]),\n",
       " array([  1. ,  40.1,  79.2, 118.3, 157.4, 196.5, 235.6, 274.7, 313.8,\n",
       "        352.9, 392. ]),\n",
       " <a list of 10 Patch objects>)"
      ]
     },
     "execution_count": 10,
     "metadata": {},
     "output_type": "execute_result"
    },
    {
     "data": {
      "image/png": "[encoded data removed]",
      "text/plain": [
       "<Figure size 432x288 with 1 Axes>"
      ]
     },
     "metadata": {
      "needs_background": "light"
     },
     "output_type": "display_data"
    }
   ],
   "source": [
    "vals = [1, 200]\n",
    "for i in range(1000):\n",
    "    num1=random.choice(range(1, 200))\n",
    "    num2=random.choice(range(1, 200))\n",
    "    vals.append(num1+num2)\n",
    "plt.hist(vals, bins=10)"
   ]
  },
  {
   "cell_type": "code",
   "execution_count": 11,
   "metadata": {},
   "outputs": [
    {
     "data": {
      "text/plain": [
       "-0.5333648981718748"
      ]
     },
     "execution_count": 11,
     "metadata": {},
     "output_type": "execute_result"
    }
   ],
   "source": [
    "random.gauss(1, 10)"
   ]
  },
  {
   "cell_type": "code",
   "execution_count": 12,
   "metadata": {},
   "outputs": [],
   "source": [
    "def rollDies():\n",
    "    return random.choice([1, 2, 3, 4, 5, 6])\n",
    "def checkpascal(n):\n",
    "    corrnum = 0\n",
    "    for i in range(n):\n",
    "        for j in range(24):\n",
    "            d1=rollDies()\n",
    "            d2=rollDies()\n",
    "            if d1 == 6 and d2 == 6:\n",
    "                corrnum += 1\n",
    "                break\n",
    "    return corrnum/n\n",
    "        "
   ]
  },
  {
   "cell_type": "code",
   "execution_count": 13,
   "metadata": {},
   "outputs": [
    {
     "data": {
      "text/plain": [
       "0.4765"
      ]
     },
     "execution_count": 13,
     "metadata": {},
     "output_type": "execute_result"
    }
   ],
   "source": [
    "checkpascal(2000)"
   ]
  },
  {
   "cell_type": "code",
   "execution_count": 14,
   "metadata": {},
   "outputs": [],
   "source": [
    "class crapgame(object):\n",
    "    def __init__(self):\n",
    "        self.passwins, self.passloses = (0, 0)\n",
    "        self.dpwins, self.dploses, self.pushes = (0, 0, 0)\n",
    "    def hand(self):\n",
    "        throw = rollDies() + rollDies()\n",
    "        if throw == 7 or throw == 11:\n",
    "            self.passwins += 1\n",
    "            self.dploses += 1\n",
    "        elif throw == 2 or throw == 3 or throw == 12:\n",
    "            self.passloses += 1\n",
    "            if throw == 12:\n",
    "                self.pushes += 1\n",
    "            else:\n",
    "                self.dploses += 1\n",
    "        else:\n",
    "            point = throw\n",
    "            while True:\n",
    "                throw = rollDies() + rollDies()\n",
    "                if throw == point:\n",
    "                    self.passwins += 1\n",
    "                    self.dploses += 1\n",
    "                    break\n",
    "                elif throw == 7:\n",
    "                    self.passloses += 1\n",
    "                    self.dpwins += 1\n",
    "                    break\n",
    "    def passresult(self):\n",
    "        return (self.passwins, self.passloses)\n",
    "    def dpresult(self):\n",
    "        return (self.dpwins, self.dploses, self.pushes)\n",
    "        "
   ]
  },
  {
   "cell_type": "code",
   "execution_count": 15,
   "metadata": {},
   "outputs": [],
   "source": [
    "import statistics\n",
    "def crapsim(handnum, gamenum):\n",
    "    game = []\n",
    "    for i in range(gamenum):\n",
    "        c = crapgame()\n",
    "        for n in range(handnum):\n",
    "            c.hand()\n",
    "        game.append(c)\n",
    "    pROIPergame, dpROIPergame = [], []\n",
    "    for g in game:\n",
    "        wins, loses = g.passresult()\n",
    "        pROIPergame.append((wins - loses)/handnum)\n",
    "        wins, loses, pushes = g.dpresult()\n",
    "        dpROIPergame.append((wins - loses)/handnum)\n",
    "    meanROI = str(round((100*sum(pROIPergame)/gamenum), 4))+'%'\n",
    "    sigma = str(round((100*statistics.stdev(pROIPergame)/gamenum), 4))+'%'\n",
    "    print('Pass:', 'MeanROI =', meanROI, 'Std.Dev =', sigma)\n",
    "    meanROI = str(round((100*sum(dpROIPergame)/gamenum), 4))+'%'\n",
    "    sigma = str(round((100*statistics.stdev(dpROIPergame)/gamenum), 4))+'%'\n",
    "    print('Dpass:', 'MeanROI =', meanROI, 'Std.Dev =', sigma)\n",
    "    "
   ]
  },
  {
   "cell_type": "code",
   "execution_count": 16,
   "metadata": {
    "scrolled": true
   },
   "outputs": [
    {
     "name": "stdout",
     "output_type": "stream",
     "text": [
      "Pass: MeanROI = -3.2% Std.Dev = 2.2379%\n",
      "Dpass: MeanROI = -19.2% Std.Dev = 2.3723%\n"
     ]
    }
   ],
   "source": [
    "crapsim(100, 5)"
   ]
  },
  {
   "cell_type": "markdown",
   "metadata": {},
   "source": [
    "Knapsack and graph optimization problems"
   ]
  },
  {
   "cell_type": "code",
   "execution_count": 51,
   "metadata": {},
   "outputs": [],
   "source": [
    "class Item(object):\n",
    "    def __init__(self, n, v, w):\n",
    "        self.name = n\n",
    "        self.value = float(v)\n",
    "        self.weight = float(w)\n",
    "    def getName(self):\n",
    "        return self.name\n",
    "    def getValue(self):\n",
    "        return self.value\n",
    "    def getWeight(self):\n",
    "        return self.weight\n",
    "    def __str__(self):\n",
    "        result = '<' + self.name + ',' + str(self.value)\\\n",
    "                 + ',' + str(self.weight) + '>'\n",
    "        return result\n",
    "def value(item):\n",
    "    return item.getValue()\n",
    "def weightInverse(item):\n",
    "    return 1/item.getWeight()\n",
    "def density(item):\n",
    "    return item.getValue()/item.getWeight()\n",
    "def builditems():\n",
    "    names = ['clock', 'painting', 'radio', 'vase', 'book', 'computer']\n",
    "    values = [175, 90, 20, 50, 10, 200]\n",
    "    weights = [10, 9, 4, 2, 1, 20]\n",
    "    Items = []\n",
    "    for i in range(len(names)):\n",
    "        Items.append(Item(names[i], values[i], weights[i]))\n",
    "    return Items"
   ]
  },
  {
   "cell_type": "code",
   "execution_count": 64,
   "metadata": {},
   "outputs": [],
   "source": [
    "def greedy(items, maxweight, keyfunction):\n",
    "    itemscopy = sorted(items, key=keyfunction, reverse=True)\n",
    "    result = []\n",
    "    totalvalue = 0.0\n",
    "    totalweight = 0.0\n",
    "    for i in range(len(itemscopy)):\n",
    "        if (totalweight+itemscopy[i].getWeight()) <= maxweight:\n",
    "            result.append(itemscopy[i])\n",
    "            totalweight += itemscopy[i].getWeight()\n",
    "            totalvalue += itemscopy[i].getValue()\n",
    "    return (result, totalvalue)\n",
    "def testgreedy(items, constraint, keyfunction):\n",
    "    taken, val = greedy(items, constraint, keyfunction)\n",
    "    print('total value of items taken =', val)\n",
    "    for item in taken:\n",
    "        print('  ', item)\n",
    "def testgreedys(maxweight = 20):\n",
    "    items = builditems()\n",
    "    print('use greedy by value to fill knapsack of size', maxweight)\n",
    "    testgreedy(items, maxweight, value)\n",
    "    print('use greedy by weight to fill knapsack of size', maxweight)\n",
    "    testgreedy(items, maxweight, weightInverse)\n",
    "    print('use greedy by density to fill knapsack of size', maxweight)\n",
    "    testgreedy(items, maxweight, density)\n",
    "    "
   ]
  },
  {
   "cell_type": "code",
   "execution_count": 65,
   "metadata": {},
   "outputs": [
    {
     "name": "stdout",
     "output_type": "stream",
     "text": [
      "use greedy by value to fill knapsack of size 20\n",
      "total value of items taken = 200.0\n",
      "   <computer,200.0,20.0>\n",
      "use greedy by weight to fill knapsack of size 20\n",
      "total value of items taken = 170.0\n",
      "   <book,10.0,1.0>\n",
      "   <vase,50.0,2.0>\n",
      "   <radio,20.0,4.0>\n",
      "   <painting,90.0,9.0>\n",
      "use greedy by density to fill knapsack of size 20\n",
      "total value of items taken = 255.0\n",
      "   <vase,50.0,2.0>\n",
      "   <clock,175.0,10.0>\n",
      "   <book,10.0,1.0>\n",
      "   <radio,20.0,4.0>\n"
     ]
    }
   ],
   "source": [
    "testgreedys(maxweight=20)"
   ]
  },
  {
   "cell_type": "markdown",
   "metadata": {},
   "source": [
    "<font size=3>An optimal solution to the 0/1 Knapsack problem</font>"
   ]
  },
  {
   "cell_type": "code",
   "execution_count": null,
   "metadata": {},
   "outputs": [],
   "source": []
  }
 ],
 "metadata": {
  "kernelspec": {
   "display_name": "Python 3",
   "language": "python",
   "name": "python3"
  },
  "language_info": {
   "codemirror_mode": {
    "name": "ipython",
    "version": 3
   },
   "file_extension": ".py",
   "mimetype": "text/x-python",
   "name": "python",
   "nbconvert_exporter": "python",
   "pygments_lexer": "ipython3",
   "version": "3.7.3"
  }
 },
 "nbformat": 4,
 "nbformat_minor": 2
}
