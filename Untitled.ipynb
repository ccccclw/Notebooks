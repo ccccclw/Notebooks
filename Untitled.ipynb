{
 "cells": [
  {
   "cell_type": "code",
   "execution_count": 4,
   "metadata": {},
   "outputs": [
    {
     "name": "stdout",
     "output_type": "stream",
     "text": [
      "Before the function runs\n",
      "Leave me alone\n",
      "After the function runs\n"
     ]
    }
   ],
   "source": [
    "def my_shiny_new_decorator(a_function_to_decorate):\n",
    "\n",
    "    # Inside, the decorator defines a function on the fly: the wrapper.\n",
    "    # This function is going to be wrapped around the original function\n",
    "    # so it can execute code before and after it.\n",
    "    def the_wrapper_around_the_original_function():\n",
    "\n",
    "        # Put here the code you want to be executed BEFORE the original \n",
    "        # function is called\n",
    "        print('Before the function runs')\n",
    "\n",
    "        # Call the function here (using parentheses)\n",
    "        a_function_to_decorate()\n",
    "\n",
    "        # Put here the code you want to be executed AFTER the original \n",
    "        # function is called\n",
    "        print('After the function runs')\n",
    "\n",
    "    # At this point, `a_function_to_decorate` HAS NEVER BEEN EXECUTED.\n",
    "    # We return the wrapper function we have just created.\n",
    "    # The wrapper contains the function and the code to execute before\n",
    "    # and after. It’s ready to use!\n",
    "    return the_wrapper_around_the_original_function\n",
    "@my_shiny_new_decorator\n",
    "def another_stand_alone_function():\n",
    "    print('Leave me alone')\n",
    "\n",
    "another_stand_alone_function()"
   ]
  },
  {
   "cell_type": "code",
   "execution_count": 6,
   "metadata": {},
   "outputs": [
    {
     "name": "stdout",
     "output_type": "stream",
     "text": [
      "<b><i>hello</i></b>\n"
     ]
    }
   ],
   "source": [
    "# The decorator to make it bold\n",
    "def makebold(fn):\n",
    "    # The new function the decorator returns\n",
    "    def wrapper():\n",
    "        # Insertion of some code before and after\n",
    "        return '<b>' + fn() + '</b>'\n",
    "    return wrapper\n",
    "\n",
    "# The decorator to make it italic\n",
    "def makeitalic(fn):\n",
    "    # The new function the decorator returns\n",
    "    def wrapper():\n",
    "        # Insertion of some code before and after\n",
    "        return '<i>' + fn() + '</i>'\n",
    "    return wrapper\n",
    "\n",
    "@makebold\n",
    "@makeitalic\n",
    "def say():\n",
    "    return 'hello'\n",
    "\n",
    "print(say())"
   ]
  },
  {
   "cell_type": "code",
   "execution_count": null,
   "metadata": {},
   "outputs": [],
   "source": []
  }
 ],
 "metadata": {
  "hide_input": false,
  "kernelspec": {
   "display_name": "Python 3",
   "language": "python",
   "name": "python3"
  },
  "language_info": {
   "codemirror_mode": {
    "name": "ipython",
    "version": 3
   },
   "file_extension": ".py",
   "mimetype": "text/x-python",
   "name": "python",
   "nbconvert_exporter": "python",
   "pygments_lexer": "ipython3",
   "version": "3.6.10"
  }
 },
 "nbformat": 4,
 "nbformat_minor": 4
}
