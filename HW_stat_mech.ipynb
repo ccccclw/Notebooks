{
 "cells": [
  {
   "cell_type": "markdown",
   "metadata": {},
   "source": [
    "HW Liwei\n",
    "\n",
    "$E = \\sum_{i,M}^{}P_i(M)E_i(M)$ <br /><br /> Due to total derivative<br /><br />\n",
    "$dE = \\sum_{i,M}^{}\\frac{\\partial P_i(M)E_i(M)}{\\partial P_i(M)}dP_i(M) + \\sum_{i,M}^{}\\frac{\\partial P_i(M)E_i(M)}{\\partial E_i(M)}dE_i(M)$<br /><br />$=\\sum_{i,M}^{}E_i(M)dP_i(M) + \\sum_{i,M}^{}P_i(M)dE_i(M)$ <br /><br />Similarly, from $N=\\sum_{i,M}MP_i(M),$<br /><br />$dN=\\sum_{i,M}^{}\\frac{\\partial MP_i(M)}{\\partial P_i(M)}dP_i(M) + \\sum_{i,M}^{}\\frac{\\partial MP_i(M)}{\\partial M}dM$<br /><br />$=\\sum_{i,M}^{}MdP_i(M) + \\sum_{i,M}^{}P_i(M)dM$<br /><br />$=\\sum_{i,M}^{}MdP_i(M)$   ($dM = 0$ because each M is treated as a constant)"
   ]
  },
  {
   "cell_type": "markdown",
   "metadata": {},
   "source": [
    "HW Liwei\n",
    "\n",
    "What are the values of the probabilities for which we obtain a maximum entropy?\n",
    "\n",
    "$$S = -k\\sum_{t}P_tlnP_t$$\n",
    "\n",
    "#### Prove_1: Lagrange multiplier\n",
    "\n",
    "$S = -k\\sum_{t}P_tlnP_t$<br />\n",
    "\n",
    "Constraints: $g = \\sum_{t}P_t = 1$<br />\n",
    "\n",
    "$\\frac{\\partial}{\\partial P_t}(S + \\lambda(g - 1)) = 0$ <br/>\n",
    "\n",
    "Then,\n",
    "\n",
    "$\\frac{\\partial}{\\partial P_t}(-k\\sum_{t}P_tlnP_t + \\lambda(g - 1)) = 0$ <br/>\n",
    "\n",
    "After calculating the first derivative for each $P_t$, we get\n",
    "\n",
    "$-k(1 + lnP_t) + \\lambda = 0$<br />\n",
    "\n",
    "which means $S$ is the maximum when all $P_t$ are equal, due to the constraint $g = \\sum_{t}P_t = 1$<br />\n",
    "\n",
    "$P_t = \\frac{1}{n}$  ($n$ is the number of $P_t$)\n",
    "\n",
    "#### Prove_2:  Use inequation $lnx <= x-1$\n",
    "\n",
    "Assumption: $S_{max} = lnM$, then <br />\n",
    "\n",
    "$k\\sum_{t}P_tln\\frac{1}{P_t} - S_{max} <= 0$<br />\n",
    "\n",
    "$k\\sum_{t}P_tln\\frac{1}{P_t} - k\\sum_{t}P_t\\frac{1}{k}lnM <= 0$   (because $\\sum_{t}P_t = 1$)\n",
    "\n",
    "$k\\sum_{t}P_t(ln\\frac{1}{P_t}-\\frac{1}{k}lnM) <= 0$\n",
    "\n",
    "$k\\sum_{t}P_t(ln\\frac{1}{P_t}-\\frac{1}{k}lnM) <= k\\sum_{t}P_t(\\frac{1}{P_tM^\\frac{1}{k}}-1)$\n",
    "\n",
    "$k\\sum_{t}P_t(ln\\frac{1}{P_t}-\\frac{1}{k}lnM) = k\\sum_{t}P_t(\\frac{1}{P_tM^\\frac{1}{k}}-1)$ if and only if left and right side equal to zero, and now $S = -k\\sum_{t}P_tlnP_t$ become $S_{max}$.\n",
    "\n",
    "From the left side, $k\\sum_{t}P_t(ln\\frac{1}{P_t}-\\frac{1}{k}lnM) = 0$\n",
    "\n",
    "$\\frac{1}{P_tM^\\frac{1}{k}} = 1$\n",
    "\n",
    "we get $P_t = M^{-\\frac{1}{k}}$\n",
    "\n",
    "From the right side, $k\\sum_{t}P_t(\\frac{1}{P_tM^\\frac{1}{k}}-1) = 0$\n",
    "\n",
    "we get $N^k = M$\n",
    "\n",
    "Thus, $P_t = \\frac{1}{n}$   ($n$ is the number of $P_t$)"
   ]
  },
  {
   "cell_type": "markdown",
   "metadata": {},
   "source": [
    "$N =$ _O(N)_ and $\\mu$ = _O(kT)_ which can be ignored considering the order of $N$, so $(\\frac{dN}{d\\mu})_{V,T}$ = _O(N)_"
   ]
  },
  {
   "cell_type": "markdown",
   "metadata": {},
   "source": [
    "### Prove $\\frac{\\partial <N_i>}{\\partial T} = \\frac{<N_i>(\\epsilon_i - <\\epsilon>)}{kT^2}$\n",
    "\n",
    "$\\eta_i = \\frac{e^{-\\epsilon_i/kT}}{q} \\space $ (1)\n",
    "\n",
    "$<N_i> = N\\eta_i \\space $ (2)\n",
    "\n",
    "$q = \\sum_i e^{-\\epsilon_i/kT} \\space$ (3)\n",
    "\n",
    "$<\\epsilon> = \\frac{1}{q}\\sum_i\\epsilon_ie^{-\\epsilon_i/kT} \\space$ (4)\n",
    "\n",
    "$\\frac{\\partial <N_i>}{\\partial T} = N\\frac{\\partial\\frac {e^{-\\epsilon_i/kT}}{q}}{\\partial T}$\n",
    "\n",
    "$ = N\\frac{\\frac{\\epsilon_i}{kT^2}e^{\\frac{-\\epsilon_i}{kT}}q - \\frac{\\partial q}{\\partial T}e^{\\frac{-\\epsilon_i}{kT}}}{q^2}$\n",
    "\n",
    "$ = N\\frac{\\frac{\\epsilon_i}{kT^2}e^{\\frac{-\\epsilon_i}{kT}}q - \\frac{1}{kT^2}e^{\\frac{-\\epsilon_i}{kT}}\\sum\\epsilon_ie^{\\frac{-\\epsilon_i}{kT}}}{q^2}$\n",
    "\n",
    "$ = N\\frac{e^{\\frac{-\\epsilon_i}{kT}}}{q}\\frac{\\epsilon_i - <\\epsilon>}{kT^2} = \\frac{<N_i>(\\epsilon_i - <\\epsilon>)}{kT^2} \\space$ from (1),(2),(3) and (4)"
   ]
  },
  {
   "cell_type": "markdown",
   "metadata": {},
   "source": [
    "#### Possible degeneracy of $\\epsilon_{l_xl_yl_z} = \\frac{h^2(l_x^2 + l_y^2 + l_z^2)}{8mL^2}$  $(l_x, l_y, l_z = 1,2,3,...)$\n",
    "\n",
    "Three conditions:\n",
    "1. no degeneracy when $l_x = l_y = l_z$\n",
    "2. 3 degeneracies when two out of $l_x, l_y, l_z$ are the same and the other one is different. could be \n",
    "   $l_x = l_y \\ne l_z$;$\\space l_x = l_z \\ne l_y$; $\\space l_y = l_z \\ne l_x$\n",
    "3. 6 degeneracies when $l_x \\ne l_z \\ne l_y$ like (1,2,3);(1,3,2);(2,1,3);(2,3,1);(3,1,2);(3,2,1)\n",
    "\n",
    "2-d Geometric proof:\n",
    "\n",
    "Degeneracy: $l_x^2 + l_y^2 = l_m^2 + l_n^2\\space$, which means the distance of two points in 2-d cartesian coordinates with positive integer points $(l_x, l_y)$ and $(l_m, l_n)$ to origin $(0,0)$, if $l_x = l_y$, $l_x = l_y = l_m = l_n$ because the distance of any other points to $(0,0)$ are longer or shorter; if $l_x \\ne l_y$, there are two degeneracies, which two points are symmetric in terms of the line $y = x$. This can be expanded to 3-d coordinates.\n",
    "\n",
    "#### Quantum number of electron in the cube \n",
    "\n",
    "Electrons in a cube only have spin quantum number which obeys Fermi–Dirac statistics.\n",
    "\n",
    "#### __$\\lambda = O(\\frac{h}{mv})$__\n",
    "\n",
    "In the cube, each particle only has kinetic energy, so\n",
    "\n",
    "$\\lambda = O(\\frac{h}{(2\\pi m*\\frac{1}{2}mv^2)^{1/2}} ) = O(\\frac{h}{mv})$\n"
   ]
  },
  {
   "cell_type": "markdown",
   "metadata": {},
   "source": [
    "#### Experiments are done under T $\\rightarrow$ 0 when ground state is non-degenerate\n",
    "1. One particle in the box and measure the energy $E_1$\n",
    "\n",
    "   Ten particles in the box and measure the energy $E_2$\n",
    "   \n",
    "   If $E_2 = 10E_1$, then the particles are bosons, otherwise they are fermions.\n",
    "   \n",
    "\n",
    "2. It is impossible to attain absolute zero of temperature."
   ]
  },
  {
   "cell_type": "markdown",
   "metadata": {},
   "source": [
    "#### Fermi-Dirac Micro-canonical treatment\n",
    "\n",
    "$L\\left(m_{i}, \\alpha, \\beta\\right)=\\ln W-\\alpha\\left(\\sum_{i} m_{i}-N\\right)-\\beta\\left(\\sum_{i} m_{i} \\varepsilon_{i}-E\\right)$\n",
    "\n",
    "$ = \\sum_{i}\\ln W_i-\\alpha\\left(\\sum_{i} m_{i}-N\\right)-\\beta\\left(\\sum_{i} m_{i} \\varepsilon_{i}-E\\right)$\n",
    "\n",
    "$ = \\ln W_i^* -\\alpha\\left(\\sum_{i} m_{i}-N\\right)-\\beta\\left(\\sum_{i} m_{i} \\varepsilon_{i}-E\\right)$\n",
    "\n",
    "$ = \\ln g_i!-\\ln (g_i - m_i)! -\\ln(m_i)!-\\alpha\\left(\\sum_{i} m_{i}-N\\right)-\\beta\\left(\\sum_{i} m_{i} \\varepsilon_{i}-E\\right)$\n",
    "\n",
    "$ = -[(g_i - m_i)\\ln(g_i - m_i) - (g_i - m_i)] - (m_i\\ln m_i - m_i) - \\alpha\\left(\\sum_{i} m_{i}-N\\right)-\\beta\\left(\\sum_{i} m_{i} \\varepsilon_{i}-E\\right)$\n",
    "\n",
    "$\\frac{\\partial L\\left(m_{i}, \\alpha, \\beta\\right)}{\\partial m_i} = \\ln(g_i - m_i) -\\ln m_i -\\alpha - \\beta \\varepsilon_{i} = 0$\n",
    "\n",
    "$\\ln\\frac{g_i-m_i}{m_i} = \\alpha +\\beta \\varepsilon_{i}$\n",
    "\n",
    "$\\frac{g_i}{m_i} -1 = e^{(\\alpha+\\beta\\varepsilon_{i})}$\n",
    "\n",
    "$<n_i> = \\frac{m_i}{g_i} = \\frac{1}{1+e^{-(\\alpha+\\beta\\varepsilon_{i})}}$\n",
    "\n",
    "Considering microcanonical ensemble is a degenerate grandcanonical ensemble, after comparing with result of grandcanonical ensemble, \n",
    "\n",
    "$\\alpha = -\\frac{\\mu}{kT}$, $\\beta = \\frac{1}{kT}$\n",
    "\n",
    "so \n",
    "\n",
    "$<n_i> = \\frac{1}{1+e^{\\frac{\\varepsilon_{i}-\\mu}{k T}}}$\n"
   ]
  },
  {
   "cell_type": "markdown",
   "metadata": {},
   "source": [
    "#### Bose-Einstein Micro-canonical treatment\n",
    "\n",
    "The only difference with the Fermi-Dirac Micro-canonical treatment is the form of $W_i$.\n",
    "\n",
    "By substituting $W_i = \\frac{(m_i+g_i)!}{g_i!m_i!}$ into above treatment\n",
    "\n",
    "we get\n",
    "\n",
    "$\\ln\\frac{g_i+m_i}{m_i} = \\alpha +\\beta \\varepsilon_{i}$\n",
    "\n",
    "so \n",
    "\n",
    "$<n_i> = \\frac{1}{e^{\\frac{\\varepsilon_{i}-\\mu}{k T}}-1}$"
   ]
  },
  {
   "cell_type": "markdown",
   "metadata": {},
   "source": [
    "$U(x)=\\sum_{i=1}^{N}\\left[u\\left(a+x_{i+1}-x_{i}\\right)+u\\left(2 a+x_{i+2}-x_{i}\\right)\\right] \\space (1)$\n",
    "\n",
    "__After \"uncouple\",__\n",
    "\n",
    "$\\begin{aligned} u(a+\\delta) &=u(a)+u^{\\prime}(a) \\delta+\\frac{1}{2} u^{\\prime \\prime}(a) \\delta^{2}+\\cdots \\space (2)\\\\ u(2 a+\\eta) &=u(2 a)+u^{\\prime}(2 a) \\eta+\\frac{1}{2} u^{\\prime \\prime}(2 a) \\eta^{2}+\\cdots \\space (3)\\end{aligned}$\n",
    "\n",
    "__where $\\delta = x_{i+1} - x_i; \\eta = x_(i+2) - x_i$;__\n",
    "\n",
    "$u^\\prime(a) = 0; u^\\prime(2a) = 0 \\space$__because $u(x)$ has minimum at $x_i = 0$ for all i__\n",
    "\n",
    "__So, after substituting (2) and (3) into (1), all $u^\\prime(a)\\delta = 0; u^\\prime(2a)\\eta = 0.\\space$__"
   ]
  },
  {
   "cell_type": "markdown",
   "metadata": {},
   "source": [
    "#### Thermodynamics of Quantum states\n",
    "\n",
    "##### Canonical Ensemble\n",
    "\n",
    "$\\frac{\\partial}{\\partial \\omega_{n}}\\{-k T r(\\rho \\ln \\rho)-\\beta[\\operatorname{Tr}(\\rho H)-E]-\\alpha[\\operatorname{Tr}(\\rho)-1]\\}=0 \\space $   (1)\n",
    "\n",
    "$\\operatorname{Tr}(\\rho \\ln \\rho)=\\sum_{n} \\omega_{n} \\ln \\omega_{n} \\space$  (2)\n",
    "\n",
    "$\\operatorname{Tr}(H \\rho)=\\langle\\psi|H| \\psi\\rangle=\\sum_{n} \\omega_{n}\\left\\langle\\psi_{n}|H| \\psi_{n}\\right\\rangle \\space$  (3)\n",
    "\n",
    "$\\operatorname{Tr}(\\rho)=\\sum_{n} \\omega_{n} \\space$  (4)\n",
    "\n",
    "For $\\omega_n$, which would lead largest Von Neumann entropy, by substituting (2),(3),(4) into (1), we get\n",
    "\n",
    "$-k\\ln\\omega_n - 1 - \\beta E_n - \\alpha = 0 \\space$  (5) \n",
    "\n",
    "$\\omega_n = e^{-\\frac{(\\beta E_n + \\alpha + 1)}{k}} \\space$  (6)\n",
    "\n",
    "$\\sum_{n} \\omega_n = 1 \\space$ (7)\n",
    "\n",
    "then,\n",
    "\n",
    "$\\omega_n = \\frac{e^{-\\beta E_n}}{\\sum_{e^{-\\beta E_n}}}$\n",
    "\n",
    "##### Grand canonical Ensemble\n",
    "\n",
    "$\\frac{\\partial}{\\partial \\omega_{n}}\\left\\{\\begin{array}{l}-k T r(\\rho \\ln \\rho)-\\beta[\\{\\operatorname{Tr}(\\rho H)-E\\}-\\mu\\{\\operatorname{Tr}(\\rho N)-N\\}]-\\alpha[\\operatorname{Tr}(\\rho)-1]\\end{array}\\right\\}=0 \\space$ (8)\n",
    "\n",
    "$\\operatorname{Tr}(N \\rho)=\\langle\\psi|N| \\psi\\rangle=\\sum_{n} \\omega_{n}\\left\\langle\\psi_{n}|N| \\psi_{n}\\right\\rangle \\space$  (9)\n",
    "\n",
    "Similar with Canonical Ensemble, by substituting (2),(3),(4),(9) into (8), and because of (7), we get\n",
    "\n",
    "$\\omega_n = \\frac{e^{-\\beta E_n}e^{\\beta\\mu N}}{\\sum_{e^{-\\beta E_n}e^{\\beta\\mu N}}}$\n"
   ]
  },
  {
   "cell_type": "code",
   "execution_count": null,
   "metadata": {},
   "outputs": [],
   "source": []
  }
 ],
 "metadata": {
  "kernelspec": {
   "display_name": "Python 3",
   "language": "python",
   "name": "python3"
  },
  "language_info": {
   "codemirror_mode": {
    "name": "ipython",
    "version": 3
   },
   "file_extension": ".py",
   "mimetype": "text/x-python",
   "name": "python",
   "nbconvert_exporter": "python",
   "pygments_lexer": "ipython3",
   "version": "3.6.10"
  }
 },
 "nbformat": 4,
 "nbformat_minor": 2
}
